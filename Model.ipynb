{
 "cells": [
  {
   "cell_type": "code",
   "execution_count": 2,
   "metadata": {},
   "outputs": [],
   "source": [
    "from __future__ import unicode_literals, print_function, division\n",
    "from io import open\n",
    "import glob\n",
    "import os\n",
    "import unicodedata\n",
    "import string\n",
    "import torch\n",
    "import pandas as pd"
   ]
  },
  {
   "cell_type": "code",
   "execution_count": 48,
   "metadata": {},
   "outputs": [
    {
     "name": "stdout",
     "output_type": "stream",
     "text": [
      "      name  gender  score\n",
      "0        A       1    1.0\n",
      "1     A.j.       1    1.0\n",
      "2   A'isha       0    0.0\n",
      "3  A'ishah       0    0.0\n",
      "4  Aa'isha       0    0.0\n"
     ]
    }
   ],
   "source": [
    "def read_csv(path):\n",
    "    return pd.read_csv(path)\n",
    "\n",
    "all_letters = string.ascii_letters + \" .,;'\"\n",
    "n_letter = len(all_letter)\n",
    "dataframe = read_csv(\"gender.csv\")\n",
    "dataframe = dataframe[dataframe.gender != 3]\n",
    "print(dataframe.head())"
   ]
  },
  {
   "cell_type": "code",
   "execution_count": 49,
   "metadata": {},
   "outputs": [
    {
     "name": "stdout",
     "output_type": "stream",
     "text": [
      "Slusarski\n"
     ]
    }
   ],
   "source": [
    "def unicodeToAscii(s):\n",
    "    return ''.join(\n",
    "        c for c in unicodedata.normalize('NFD', s)\n",
    "        if unicodedata.category(c) != 'Mn'\n",
    "        and c in all_letters\n",
    "    )\n",
    "\n",
    "print(unicodeToAscii('Ślusàrski'))"
   ]
  },
  {
   "cell_type": "code",
   "execution_count": 50,
   "metadata": {},
   "outputs": [],
   "source": [
    "gender_dict = {}\n",
    "gender = [i for i in dataframe['gender'].unique()]\n",
    "\n",
    "for idx, row in dataframe.iterrows():\n",
    "    if row['gender'] not in gender_dict.keys():\n",
    "        gender_dict[row['gender']] = []\n",
    "    gender_dict[row['gender']].append(unicodeToAscii(row['name']))\n",
    "\n",
    "n_category = len(gender)"
   ]
  },
  {
   "cell_type": "code",
   "execution_count": 51,
   "metadata": {},
   "outputs": [
    {
     "name": "stdout",
     "output_type": "stream",
     "text": [
      "['A', 'A.j.', 'Aaban', 'Aabid', 'Aabraham', 'Aadam', 'Aadan', 'Aadarsh', 'Aaden', 'Aadesh']\n"
     ]
    }
   ],
   "source": [
    "print(gender_dict[1][:10])"
   ]
  },
  {
   "cell_type": "code",
   "execution_count": 52,
   "metadata": {},
   "outputs": [
    {
     "name": "stdout",
     "output_type": "stream",
     "text": [
      "tensor([[0., 0., 0., 0., 0., 0., 0., 0., 0., 0., 0., 0., 0., 0., 0., 0., 0., 0.,\n",
      "         0., 0., 0., 0., 0., 0., 0., 0., 0., 0., 0., 0., 0., 0., 0., 0., 0., 0.,\n",
      "         0., 0., 0., 0., 0., 1., 0., 0., 0., 0., 0., 0., 0., 0., 0., 0., 0., 0.,\n",
      "         0., 0., 0.]])\n",
      "torch.Size([6, 1, 57])\n"
     ]
    }
   ],
   "source": [
    "def letterToIndex(letter):\n",
    "    return all_letters.index(letter)\n",
    "\n",
    "def letterToTensor(letter):\n",
    "    tensor = torch.zeros(1,n_letter)\n",
    "    tensor[0][letterToIndex(letter)] = 1\n",
    "    return tensor\n",
    "\n",
    "def nameToTensor(name):\n",
    "    tensor = torch.zeros( len(name), 1, n_letter )\n",
    "    for i in range(len(name)):\n",
    "        tensor[i][0][letterToIndex(name[i])] = 1\n",
    "    return tensor\n",
    "\n",
    "print(letterToTensor('P'))\n",
    "print(nameToTensor('Piyush').size())"
   ]
  },
  {
   "cell_type": "code",
   "execution_count": 53,
   "metadata": {},
   "outputs": [],
   "source": [
    "import torch.nn as nn\n",
    "\n",
    "class RNN(nn.Module):\n",
    "    def __init__(self, input_size, hidden_size, output_size):\n",
    "        super(RNN, self).__init__()\n",
    "        \n",
    "        self.hidden_size = hidden_size\n",
    "        \n",
    "        self.i2h = nn.Linear(input_size+hidden_size, hidden_size)\n",
    "        self.i2o = nn.Linear(input_size+hidden_size, output_size)\n",
    "        self.softmax = nn.LogSoftmax(dim=1)\n",
    "    \n",
    "    def forward(self, input, hidden):\n",
    "        combined = torch.cat((input,hidden),dim=1)\n",
    "        hidden = self.i2h(combined)\n",
    "        output = self.i2o(combined)\n",
    "        output = self.softmax(output)\n",
    "        return output, hidden\n",
    "    \n",
    "    def initHidden(self):\n",
    "        return torch.zeros(1, self.hidden_size)\n",
    "    \n",
    "n_hidden = 128\n",
    "rnn = RNN(n_letter, n_hidden, n_category)"
   ]
  },
  {
   "cell_type": "code",
   "execution_count": 54,
   "metadata": {},
   "outputs": [],
   "source": [
    "input = letterToTensor('A')\n",
    "hidden = torch.zeros(1, n_hidden)\n",
    "\n",
    "output, next_hidden = rnn(input, hidden)"
   ]
  },
  {
   "cell_type": "code",
   "execution_count": 55,
   "metadata": {},
   "outputs": [
    {
     "name": "stdout",
     "output_type": "stream",
     "text": [
      "tensor([[-0.6180, -0.7744]], grad_fn=<LogSoftmaxBackward>)\n"
     ]
    }
   ],
   "source": [
    "input = nameToTensor('Piyush')\n",
    "hidden = torch.zeros(1, n_hidden)\n",
    "\n",
    "output, next_hidden = rnn(input[0], hidden)\n",
    "print(output)"
   ]
  },
  {
   "cell_type": "code",
   "execution_count": 56,
   "metadata": {},
   "outputs": [
    {
     "name": "stdout",
     "output_type": "stream",
     "text": [
      "(1, 0)\n"
     ]
    }
   ],
   "source": [
    "def categoryFromOutput(output):\n",
    "    top_k, top_i = output.topk(1)\n",
    "    category_i = top_i[0].item()\n",
    "    return gender[category_i], category_i\n",
    "\n",
    "print(categoryFromOutput(output))"
   ]
  },
  {
   "cell_type": "code",
   "execution_count": 57,
   "metadata": {},
   "outputs": [
    {
     "name": "stdout",
     "output_type": "stream",
     "text": [
      "category = 1 / line = Marchant\n",
      "category = 0 / line = Roshanne\n",
      "category = 1 / line = Chaudhary\n",
      "category = 0 / line = Libbyjane\n",
      "category = 1 / line = Kabeer\n",
      "category = 0 / line = Dalayjah\n",
      "category = 1 / line = Marquarious\n",
      "category = 0 / line = Jenisse\n",
      "category = 0 / line = Gerrica\n",
      "category = 0 / line = Illyana\n"
     ]
    }
   ],
   "source": [
    "import random\n",
    "\n",
    "def randomChoice(l):\n",
    "    return l[random.randint(0, len(l)-1)]\n",
    "\n",
    "def randomTrainingExample():\n",
    "    category = randomChoice(gender)\n",
    "    name = randomChoice(gender_dict[category])\n",
    "    category_tensor = torch.tensor([gender.index(category)], dtype=torch.long)\n",
    "    name_tensor = nameToTensor(name)\n",
    "    return category, name, category_tensor, name_tensor\n",
    "\n",
    "for i in range(10):\n",
    "    category, line, category_tensor, line_tensor = randomTrainingExample()\n",
    "    print('category =', category, '/ line =', line)"
   ]
  },
  {
   "cell_type": "code",
   "execution_count": 58,
   "metadata": {},
   "outputs": [],
   "source": [
    "criterion = nn.NLLLoss()"
   ]
  },
  {
   "cell_type": "code",
   "execution_count": 59,
   "metadata": {},
   "outputs": [],
   "source": [
    "learning_rate = 0.005\n",
    "\n",
    "def train(category_tensor, name_tensor):\n",
    "    hidden = rnn.initHidden()\n",
    "    \n",
    "    rnn.zero_grad()\n",
    "    \n",
    "    for i in range(name_tensor.size()[0]):\n",
    "        output, hidden = rnn(name_tensor[i], hidden)\n",
    "    \n",
    "    loss = criterion(output, category_tensor)\n",
    "    loss.backward()\n",
    "    \n",
    "    for p in rnn.parameters():\n",
    "        p.data.add_(p.grad.data, alpha=-learning_rate)\n",
    "    \n",
    "    return output, loss.item()"
   ]
  },
  {
   "cell_type": "code",
   "execution_count": 60,
   "metadata": {},
   "outputs": [
    {
     "name": "stdout",
     "output_type": "stream",
     "text": [
      "5000 5% (0m 12s) 1.0608 Murial / 1 ✗ (0)\n",
      "10000 10% (0m 20s) 0.2580 Silender / 1 ✓\n",
      "15000 15% (0m 30s) 0.9670 Delacy / 1 ✗ (0)\n",
      "20000 20% (0m 42s) 0.0718 Gumaro / 1 ✓\n",
      "25000 25% (0m 53s) 0.1418 Muhammadahmad / 1 ✓\n",
      "30000 30% (1m 4s) 0.0892 Reston / 1 ✓\n",
      "35000 35% (1m 14s) 0.8522 Cardyn / 1 ✗ (0)\n",
      "40000 40% (1m 25s) 1.7395 Garnet / 1 ✗ (0)\n",
      "45000 45% (1m 37s) 0.8859 Ayled / 1 ✗ (0)\n",
      "50000 50% (1m 44s) 0.0769 Katresa / 0 ✓\n",
      "55000 55% (1m 51s) 0.0335 Markaya / 0 ✓\n",
      "60000 60% (2m 0s) 0.1870 Finbar / 1 ✓\n",
      "65000 65% (2m 7s) 0.1293 Caz / 1 ✓\n",
      "70000 70% (2m 16s) 0.0103 Khadeeja / 0 ✓\n",
      "75000 75% (2m 23s) 0.1084 Kwan / 1 ✓\n",
      "80000 80% (2m 30s) 0.1042 Jamall / 1 ✓\n",
      "85000 85% (2m 37s) 0.2661 Celio / 1 ✓\n",
      "90000 90% (2m 44s) 0.3459 Maewyn / 0 ✓\n",
      "95000 95% (2m 51s) 0.5581 Summerlee / 0 ✓\n",
      "100000 100% (2m 58s) 0.3055 Jubaira / 0 ✓\n"
     ]
    }
   ],
   "source": [
    "import time\n",
    "import math\n",
    "\n",
    "n_iter = 100000\n",
    "print_every = 5000\n",
    "plot_every = 1000\n",
    "\n",
    "current_loss = 0\n",
    "all_losses = []\n",
    "\n",
    "rnn = RNN(n_letter, n_hidden, n_category)\n",
    "\n",
    "def guessToWord(guess):\n",
    "    if guess == 1:\n",
    "        return \"Male\"\n",
    "    elif guess == 0:\n",
    "        return \"Female\"\n",
    "    else:\n",
    "        return \"Unisexual\"\n",
    "\n",
    "def timeSince(since):\n",
    "    now = time.time()\n",
    "    s = now - since\n",
    "    m = math.floor(s / 60)\n",
    "    s -= m * 60\n",
    "    return '%dm %ds' % (m, s)\n",
    "\n",
    "start = time.time()\n",
    "\n",
    "for iter in range(1, n_iter+1):\n",
    "    category, name, category_tensor, name_tensor = randomTrainingExample()\n",
    "    output, loss = train(category_tensor, name_tensor)\n",
    "    \n",
    "    current_loss += loss\n",
    "    \n",
    "    if iter%print_every == 0:\n",
    "        guess, guess_i = categoryFromOutput(output)\n",
    "        gen_cat = guessToWord(guess)\n",
    "        correct = '✓' if guess == category else '✗ (%s)' % category\n",
    "        print('%d %d%% (%s) %.4f %s / %s %s' % (iter, iter / n_iter * 100, timeSince(start), loss, name, guess, correct))\n",
    "    \n",
    "    if iter % plot_every == 0:\n",
    "        all_losses.append(current_loss / plot_every)\n",
    "        current_loss = 0"
   ]
  },
  {
   "cell_type": "code",
   "execution_count": 61,
   "metadata": {},
   "outputs": [
    {
     "data": {
      "text/plain": [
       "[<matplotlib.lines.Line2D at 0x7f8cead0be10>]"
      ]
     },
     "execution_count": 61,
     "metadata": {},
     "output_type": "execute_result"
    },
    {
     "data": {
      "image/png": "[encoded data removed]",
      "text/plain": [
       "<Figure size 432x288 with 1 Axes>"
      ]
     },
     "metadata": {
      "needs_background": "light"
     },
     "output_type": "display_data"
    }
   ],
   "source": [
    "import matplotlib.pyplot as plt\n",
    "import matplotlib.ticker as ticker\n",
    "\n",
    "plt.figure()\n",
    "plt.plot(all_losses)\n"
   ]
  },
  {
   "cell_type": "code",
   "execution_count": 62,
   "metadata": {},
   "outputs": [
    {
     "data": {
      "image/png": "[encoded data removed]",
      "text/plain": [
       "<Figure size 432x288 with 2 Axes>"
      ]
     },
     "metadata": {
      "needs_background": "light"
     },
     "output_type": "display_data"
    }
   ],
   "source": [
    "confusion = torch.zeros(n_category, n_category)\n",
    "n_confusion = 5000\n",
    "\n",
    "def evaluate(line_tensor):\n",
    "    hidden = rnn.initHidden()\n",
    "    \n",
    "    for i in range(line_tensor.size()[0]):\n",
    "        output, hidden = rnn(line_tensor[i], hidden)\n",
    "    \n",
    "    return output\n",
    "\n",
    "for i in range(n_confusion):\n",
    "    category, line, category_tensor, line_tensor = randomTrainingExample()\n",
    "    output = evaluate(line_tensor)\n",
    "    \n",
    "    guess, guess_i = categoryFromOutput(output)\n",
    "    category_i = gender.index(category)\n",
    "    confusion[category_i][guess_i] += 1\n",
    "\n",
    "for i in range(n_category):\n",
    "    confusion[i] = confusion[i]/confusion[i].sum()\n",
    "    \n",
    "fig = plt.figure()\n",
    "ax = fig.add_subplot(111)\n",
    "cax = ax.matshow(confusion.numpy())\n",
    "fig.colorbar(cax)\n",
    "\n",
    "ax.set_xticklabels([''] + gender, rotation=90)\n",
    "ax.set_yticklabels([''] + gender)\n",
    "\n",
    "ax.xaxis.set_major_locator(ticker.MultipleLocator(1))\n",
    "ax.yaxis.set_major_locator(ticker.MultipleLocator(1))\n",
    "\n",
    "plt.show()"
   ]
  },
  {
   "cell_type": "code",
   "execution_count": 70,
   "metadata": {},
   "outputs": [
    {
     "name": "stdout",
     "output_type": "stream",
     "text": [
      "\n",
      "> Nandini\n",
      "(-0.14) Female\n",
      "(-2.04) Male\n",
      "\n",
      "> Himanshi\n",
      "(-0.64) Female\n",
      "(-0.75) Male\n",
      "\n",
      "> Himanshu\n",
      "(-0.20) Male\n",
      "(-1.69) Female\n"
     ]
    }
   ],
   "source": [
    "def predict(input_line, n_predictions=2):\n",
    "    print('\\n> %s' % input_line)\n",
    "    \n",
    "    with torch.no_grad():\n",
    "        output = evaluate(nameToTensor(input_line))\n",
    "        \n",
    "        topv, topi = output.topk(n_predictions, 1, True)\n",
    "        predictions = []\n",
    "        \n",
    "        for i in range(n_predictions):\n",
    "            value = topv[0][i].item()\n",
    "            category_index = topi[0][i].item()\n",
    "            print('(%.2f) %s' % (value, guessToWord(gender[category_index])))\n",
    "            predictions.append([value, gender[category_index]])\n",
    "\n",
    "predict('Nandini')\n",
    "predict('Himanshi')\n",
    "predict('Himanshu')"
   ]
  },
  {
   "cell_type": "code",
   "execution_count": null,
   "metadata": {},
   "outputs": [],
   "source": []
  }
 ],
 "metadata": {
  "kernelspec": {
   "display_name": "Python 3",
   "language": "python",
   "name": "python3"
  },
  "language_info": {
   "codemirror_mode": {
    "name": "ipython",
    "version": 3
   },
   "file_extension": ".py",
   "mimetype": "text/x-python",
   "name": "python",
   "nbconvert_exporter": "python",
   "pygments_lexer": "ipython3",
   "version": "3.7.4"
  }
 },
 "nbformat": 4,
 "nbformat_minor": 2
}
